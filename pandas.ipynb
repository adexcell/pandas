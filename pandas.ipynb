{
 "cells": [
  {
   "cell_type": "code",
   "execution_count": 1,
   "metadata": {},
   "outputs": [],
   "source": [
    "import pandas as pd\n",
    "import os"
   ]
  },
  {
   "cell_type": "code",
   "execution_count": 2,
   "metadata": {},
   "outputs": [],
   "source": [
    "DATA_PATH = r\"C:\\names\""
   ]
  },
  {
   "cell_type": "code",
   "execution_count": 3,
   "metadata": {},
   "outputs": [],
   "source": [
    "def concat_files(*files_list):\n",
    "    temp_list = []\n",
    "    for item_file in files_list:\n",
    "        data_reader = pd.read_csv(f'{DATA_PATH}/yob{item_file}.txt', names=['Name', 'Gender', 'Count'])\n",
    "        data_reader['Year'] = item_file\n",
    "        temp_list.append(data_reader)\n",
    "    return pd.concat(temp_list)"
   ]
  },
  {
   "cell_type": "code",
   "execution_count": 4,
   "metadata": {},
   "outputs": [],
   "source": [
    "def top_names(d_frame):\n",
    "    return d_frame.groupby(['Name'], as_index=False).sum().sort_values(by='Count', ascending=False).head(3)['Name'].tolist()"
   ]
  },
  {
   "cell_type": "code",
   "execution_count": 5,
   "metadata": {
    "scrolled": true
   },
   "outputs": [
    {
     "data": {
      "text/plain": [
       "(['James', 'John', 'Robert'], ['John', 'William', 'Mary'])"
      ]
     },
     "execution_count": 5,
     "metadata": {},
     "output_type": "execute_result"
    }
   ],
   "source": [
    "top_1900_1950_2000 = top_names(concat_files(1900, 1950, 2000))\n",
    "top_1880 = top_names(concat_files(1880))\n",
    "top_1900_1950_2000, top_1880"
   ]
  },
  {
   "cell_type": "code",
   "execution_count": 6,
   "metadata": {},
   "outputs": [],
   "source": [
    "def count_dynamics(d_frame):\n",
    "    temp_dict = {}\n",
    "    temp_dict.setdefault('F', [])\n",
    "    temp_dict.setdefault('M', [])\n",
    "    data_reader = d_frame.groupby(['Gender','Year'], as_index=False).sum()\n",
    "    temp_dict['F'] = data_reader[data_reader.Gender == 'F']['Count'].tolist()\n",
    "    temp_dict['M'] = data_reader[data_reader.Gender == 'M']['Count'].tolist()\n",
    "    return temp_dict"
   ]
  },
  {
   "cell_type": "code",
   "execution_count": 7,
   "metadata": {
    "scrolled": true
   },
   "outputs": [
    {
     "data": {
      "text/plain": [
       "{'F': [299800, 1713151, 1815110], 'M': [150483, 1790549, 1962969]}"
      ]
     },
     "execution_count": 7,
     "metadata": {},
     "output_type": "execute_result"
    }
   ],
   "source": [
    "count_dynamics(concat_files(1900, 1950, 2000))"
   ]
  },
  {
   "cell_type": "code",
   "execution_count": null,
   "metadata": {},
   "outputs": [],
   "source": []
  }
 ],
 "metadata": {
  "kernelspec": {
   "display_name": "Python 3",
   "language": "python",
   "name": "python3"
  },
  "language_info": {
   "codemirror_mode": {
    "name": "ipython",
    "version": 3
   },
   "file_extension": ".py",
   "mimetype": "text/x-python",
   "name": "python",
   "nbconvert_exporter": "python",
   "pygments_lexer": "ipython3",
   "version": "3.7.1"
  }
 },
 "nbformat": 4,
 "nbformat_minor": 2
}
